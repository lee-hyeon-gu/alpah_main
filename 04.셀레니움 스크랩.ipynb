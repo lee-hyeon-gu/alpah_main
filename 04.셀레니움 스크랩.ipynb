{
 "cells": [
  {
   "cell_type": "code",
   "execution_count": 7,
   "metadata": {},
   "outputs": [],
   "source": [
    "from selenium import webdriver\n",
    "from selenium.webdriver.common.by import By\n",
    "from selenium.webdriver.support.ui import WebDriverWait\n",
    "from selenium.webdriver.support import expected_conditions as EC\n",
    "\n",
    "from selenium.webdriver.chrome.service import Service as ChromeService\n",
    "from selenium.webdriver.chrome.options import Options as ChromeOptions\n",
    "\n",
    "from bs4 import BeautifulSoup\n",
    "import re\n",
    "\n",
    "import sys\n",
    "if 'ipykernel' in sys.modules:\n",
    "    from tqdm.notebook import tqdm\n",
    "else:\n",
    "    from tqdm import tqdm\n",
    "\n",
    "import pandas as pd\n",
    "import time\n",
    "\n",
    "from selenium import webdriver\n",
    "\n",
    "options = webdriver.ChromeOptions()\n",
    "# options.add_argument(\"--headless\")\n",
    "options.add_argument('--disable-dev-shm-usage')\n",
    "options.add_argument(\"--no-sandbox\")  # sandbox 주요 요소 처리불가-> nosandbox 처리 가능\n",
    "\n",
    "driver = webdriver.Chrome(options=options)"
   ]
  },
  {
   "cell_type": "code",
   "execution_count": 3,
   "metadata": {},
   "outputs": [
    {
     "name": "stdout",
     "output_type": "stream",
     "text": [
      "<Response [200]>\n",
      "SEC Probes Investment Advisers’ Use of AI\n",
      "The Securities and Exchange Commission is asking investment advisers how they use and oversee artificial intelligence, as agency head Gary Gensler continues to express skepticism about the technology.\n",
      "------------------\n",
      "Artificial: The OpenAI Story\n",
      "A podcast series about how a little-known startup built one of the world’s most viral tech products…and nearly tore itself apart in the process.\n",
      "------------------\n",
      "Why the U.S. Needs a Moonshot Mentality for AI—Led by the Public Sector\n",
      "Artificial intelligence is too important to be left entirely in the hands of the big tech companies.\n",
      "------------------\n",
      "Sweeping Regulation of AI Advances in European Union Deal\n",
      "The agreement is a step toward establishing comprehensive rules governing artificial intelligence.\n",
      "------------------\n",
      "The OpenAI Board Member Who Clashed With Sam Altman Shares Her Side\n",
      "In an interview, Helen Toner, an AI academic from Australia, explains her posture in the power struggle at OpenAI.\n",
      "------------------\n"
     ]
    }
   ],
   "source": [
    "from bs4 import BeautifulSoup\n",
    "import requests\n",
    "\n",
    "\n",
    "url=requests.get('https://www.wsj.com/tech/ai',headers={'user-agent':'Mozilla/5.0 (Windows NT 10.0; Win64; x64) AppleWebKit/537.36 (KHTML, like Gecko) Chrome/120.0.0.0 Safari/537.36 Edg/120.0.0.0'})\n",
    "print(url)\n",
    "url.content\n",
    "\n",
    "soup=BeautifulSoup(url.content,'lxml')\n",
    "\n",
    "title_slt=soup.select('.e1rxbks4.css-13qefj4-HeadlineTextBlock')\n",
    "body_slt=soup.select('.css-1mj1ort')\n",
    "\n",
    "for i in range(len(title_slt)):\n",
    "    print(title_slt[i].text)\n",
    "    print(body_slt[i].text)\n",
    "    print('------------------')\n",
    "    "
   ]
  },
  {
   "cell_type": "code",
   "execution_count": 14,
   "metadata": {},
   "outputs": [
    {
     "name": "stdout",
     "output_type": "stream",
     "text": [
      "[<selenium.webdriver.remote.webelement.WebElement (session=\"adf12d873aec78c909caae384607f96e\", element=\"73CAA88F8E5BCED55D98EA5595F6D580_element_27\")>, <selenium.webdriver.remote.webelement.WebElement (session=\"adf12d873aec78c909caae384607f96e\", element=\"73CAA88F8E5BCED55D98EA5595F6D580_element_28\")>, <selenium.webdriver.remote.webelement.WebElement (session=\"adf12d873aec78c909caae384607f96e\", element=\"73CAA88F8E5BCED55D98EA5595F6D580_element_29\")>, <selenium.webdriver.remote.webelement.WebElement (session=\"adf12d873aec78c909caae384607f96e\", element=\"73CAA88F8E5BCED55D98EA5595F6D580_element_30\")>, <selenium.webdriver.remote.webelement.WebElement (session=\"adf12d873aec78c909caae384607f96e\", element=\"73CAA88F8E5BCED55D98EA5595F6D580_element_31\")>]\n"
     ]
    },
    {
     "data": {
      "text/plain": [
       "['SEC Probes Investment Advisers’ Use of AI',\n",
       " 'Artificial: The OpenAI Story',\n",
       " 'Why the U.S. Needs a Moonshot Mentality for AI—Led by the Public Sector',\n",
       " 'Sweeping Regulation of AI Advances in European Union Deal',\n",
       " 'The OpenAI Board Member Who Clashed With Sam Altman Shares Her Side']"
      ]
     },
     "execution_count": 14,
     "metadata": {},
     "output_type": "execute_result"
    }
   ],
   "source": [
    "options.add_argument('user-agent=Mozilla/5.0 (Windows NT 10.0; Win64; x64) AppleWebKit/537.36 (KHTML, like Gecko) Chrome/120.0.0.0 Safari/537.36 Edg/120.0.0.0')\n",
    "options.add_argument('.alpah_main/chromedriver.exe')\n",
    "driver=webdriver.Chrome(options=options)\n",
    "# driver = webdriver.Chrome(\"./chromedriver\")\n",
    "url='https://www.wsj.com/tech/ai'\n",
    "driver.get(url)\n",
    "\n",
    "sel_title=driver.find_elements(By.CLASS_NAME,'e1rxbks4.css-13qefj4-HeadlineTextBlock')\n",
    "print(sel_title)\n",
    "\n",
    "titles=[]\n",
    "for i in sel_title:\n",
    "    titles.append(i.text)\n",
    "    \n",
    "titles"
   ]
  },
  {
   "cell_type": "code",
   "execution_count": 10,
   "metadata": {},
   "outputs": [
    {
     "name": "stdout",
     "output_type": "stream",
     "text": [
      "[]\n"
     ]
    }
   ],
   "source": [
    "sel_title=driver.find_elements(By.CLASS_NAME,'e1rxbks4.css-13qefj4-HeadlineTextBlock')\n",
    "print(sel_title)\n",
    "# titles=[]\n",
    "# for i in sel_title:\n",
    "#     titles.append(i.text)\n",
    "    \n",
    "# titles"
   ]
  }
 ],
 "metadata": {
  "kernelspec": {
   "display_name": "test",
   "language": "python",
   "name": "python3"
  },
  "language_info": {
   "codemirror_mode": {
    "name": "ipython",
    "version": 3
   },
   "file_extension": ".py",
   "mimetype": "text/x-python",
   "name": "python",
   "nbconvert_exporter": "python",
   "pygments_lexer": "ipython3",
   "version": "3.10.13"
  }
 },
 "nbformat": 4,
 "nbformat_minor": 2
}
