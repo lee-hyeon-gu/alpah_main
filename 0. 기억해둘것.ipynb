{
 "cells": [
  {
   "cell_type": "markdown",
   "metadata": {},
   "source": [
    "가져오기\n",
    "conda activate myconda\t# 만약 가상환경 이름이 myconda라면\n",
    "conda env export > myconda.yaml\n",
    "\n",
    "내보내기\n",
    "conda env create -f myconda.yaml\n",
    "conda activate myconda\n",
    "\n",
    "삭제\n",
    "conda env remove -n myconda\n",
    "\n",
    "복사\n",
    "conda create -n myconda_copy --clone myconda\n",
    "\n"
   ]
  },
  {
   "cell_type": "code",
   "execution_count": null,
   "metadata": {},
   "outputs": [],
   "source": [
    "# 셀레니움\n",
    "from selenium import webdriver\n",
    "from selenium.webdriver.common.by import By\n",
    "from selenium.webdriver.support.ui import WebDriverWait\n",
    "from selenium.webdriver.support import expected_conditions as EC\n",
    "\n",
    "from selenium.webdriver.chrome.service import Service as ChromeService\n",
    "from selenium.webdriver.chrome.options import Options as ChromeOptions\n",
    "\n",
    "from bs4 import BeautifulSoup\n",
    "import re\n",
    "\n",
    "import sys\n",
    "if 'ipykernel' in sys.modules:\n",
    "    from tqdm.notebook import tqdm\n",
    "else:\n",
    "    from tqdm import tqdm\n",
    "\n",
    "import pandas as pd\n",
    "import time\n",
    "\n",
    "from selenium import webdriver\n",
    "\n",
    "options = webdriver.ChromeOptions()\n",
    "#options.add_argument(\"--headless\")\n",
    "options.add_argument('--disable-dev-shm-usage')\n",
    "options.add_argument(\"--no-sandbox\")  # sandbox 주요 요소 처리불가-> nosandbox 처리 가능\n",
    "\n",
    "headers={'user-agent':'Mozilla/5.0 (Windows NT 10.0; Win64; x64) AppleWebKit/537.36 (KHTML, like Gecko) Chrome/120.0.0.0 Safari/537.36 Edg/120.0.0.0'}\n",
    "options.add_argument('headers')\n",
    "driver = webdriver.Chrome(options=options)"
   ]
  },
  {
   "cell_type": "code",
   "execution_count": null,
   "metadata": {},
   "outputs": [],
   "source": [
    "# 이미지 가져오기\n",
    "url=''\n",
    "driver.get(url)\n",
    "all_images=[]\n",
    "\n",
    "if driver.find_elements(By.TAG_NAME,'img'): #이미지\n",
    "    all_images.append('yes')\n",
    "    image=driver.find_element(By.XPATH,'/html/body/div/main/div[2]/section[1]/div[3]/div[2]/p[4]/a/img')\n",
    "    img_srtc=image.get_attribute('src')\n",
    "    print(img_srtc)\n",
    "else:\n",
    "    print('no')"
   ]
  },
  {
   "cell_type": "code",
   "execution_count": null,
   "metadata": {},
   "outputs": [],
   "source": [
    "# 동영상 가져오기\n",
    "\n",
    "if driver.find_elements(By.TAG_NAME,'video'): # 동영상\n",
    "    all_video.append('yes')\n",
    "    image=driver.find_element(By.XPATH,'/html/body/div/main/div/section[1]/div/video')\n",
    "    img_srtc=image.get_attribute('src')\n",
    "    all_video_url.append(img_srtc)\n",
    "else:\n",
    "    all_video.append('no')\n",
    "    all_video_url.append('-')\n"
   ]
  }
 ],
 "metadata": {
  "language_info": {
   "name": "python"
  }
 },
 "nbformat": 4,
 "nbformat_minor": 2
}
