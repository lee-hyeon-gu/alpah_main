{
  "nbformat": 4,
  "nbformat_minor": 0,
  "metadata": {
    "colab": {
      "provenance": [],
      "authorship_tag": "ABX9TyPTlBfWeSVKBJ4B0MO+Aw+k",
      "include_colab_link": true
    },
    "kernelspec": {
      "name": "python3",
      "display_name": "Python 3"
    },
    "language_info": {
      "name": "python"
    }
  },
  "cells": [
    {
      "cell_type": "markdown",
      "metadata": {
        "id": "view-in-github",
        "colab_type": "text"
      },
      "source": [
        "<a href=\"https://colab.research.google.com/github/lee-hyeon-gu/alpah_main/blob/main/01_%EC%9B%B9_%ED%81%AC%EB%A1%A4%EB%A7%81_%EC%88%98%EC%97%85.ipynb\" target=\"_parent\"><img src=\"https://colab.research.google.com/assets/colab-badge.svg\" alt=\"Open In Colab\"/></a>"
      ]
    },
    {
      "cell_type": "markdown",
      "source": [
        "# 제일큰거\n",
        "## 두번째\n",
        "### 세번째\n",
        "\n",
        "- 마크\n",
        "- 마크\n",
        "\n",
        "1.ㅁㄴㅇㄹ\n",
        "1.ㅁㄴㅇㄹ\n",
        "1.ㅁㄴㅇㄹ\n",
        "\n",
        "__볼드__\n",
        "\n",
        "-기울기-\n",
        "\n",
        "readme.md"
      ],
      "metadata": {
        "id": "CayGQ3Qv-jsM"
      }
    },
    {
      "cell_type": "code",
      "source": [
        "import pickle\n",
        "\n",
        "with open('data.pickle','wb'_as fw:\n",
        "          pickle)"
      ],
      "metadata": {
        "id": "borAQ95-D4VC"
      },
      "execution_count": null,
      "outputs": []
    },
    {
      "cell_type": "code",
      "execution_count": null,
      "metadata": {
        "id": "Vw7jDrlJ9HN2"
      },
      "outputs": [],
      "source": [
        "import requests\n",
        "from bs4 import BeautifulSoup\n"
      ]
    },
    {
      "cell_type": "code",
      "source": [
        "resp= requests.get('https://search.naver.com/search.naver?where=news&sm=tab_pge&query=%EC%82%BC%EC%84%B1&sort=0&photo=0&field=0&pd=0&ds=&de=&cluster_rank=20&mynews=0&office_type=0&office_section_code=0&news_office_checked=&office_category=0&service_area=0&nso=so:r,p:all,a:all&start=1')\n",
        "resp.content\n",
        "print(resp)"
      ],
      "metadata": {
        "colab": {
          "base_uri": "https://localhost:8080/"
        },
        "id": "_dIefkIv-Qa7",
        "outputId": "9f17cb19-29fd-4306-e0ed-f19939c1a32e"
      },
      "execution_count": null,
      "outputs": [
        {
          "output_type": "stream",
          "name": "stdout",
          "text": [
            "<Response [200]>\n"
          ]
        }
      ]
    },
    {
      "cell_type": "code",
      "source": [
        "soup=BeautifulSoup(resp.content,'lxml')\n",
        "titles_slt=soup.select('.news_tit')\n",
        "titles_slt\n",
        "\n",
        "for i in titles_slt:\n",
        "    print(i.text)"
      ],
      "metadata": {
        "id": "MVABD_F-AZ7y",
        "colab": {
          "base_uri": "https://localhost:8080/"
        },
        "outputId": "aee655b8-d7e2-4a83-aa8a-89b4e7e563d7"
      },
      "execution_count": 55,
      "outputs": [
        {
          "output_type": "stream",
          "name": "stdout",
          "text": [
            "삼성, 세계서 가장 혁신적인 기업… 애플, 삼성보다 R&D 투자 더 많이 해\n",
            "[酒절주절]〈18〉삼성家과 술\n",
            "\"메시 같은 염소 되겠다\"…삼성 임원이 '깜짝 선언'한 이유 [김익환의 컴퍼니...\n",
            "전체 1순위 최주환 키움 품에… 이상규 한화, 최성훈 삼성行\n",
            "“삼성, 애플 앞마당서 내년 1월17일 갤S24 공개”\n",
            "[르포]“추석 이후 문의전화 한통이 없어요”…삼성동 아파트 매매시장도 임시...\n",
            "朴 \"내가 삼성병원장 꾸짖었다? 사진 한장이 괴담 만들었다\" [박근혜 회고록]\n",
            "삼성D, '호황기' 3분기 지난 4분기 이후 실적 촉각\n",
            "[10시 시황 해설자들 - 해설자들] 삼성전자는 '이 때' 올랐습니다\n",
            "[김대호 박사의 오늘 기업·사람] 노스볼트·폭스바겐·LG엔솔·폭스콘·애플...\n"
          ]
        }
      ]
    },
    {
      "cell_type": "code",
      "source": [
        "title_list=[]\n",
        "for i in titles_slt:\n",
        "    title_list.append(i.text)\n",
        "for i in title_list:\n",
        "    print(i)"
      ],
      "metadata": {
        "id": "rsbWO6mFD3x0"
      },
      "execution_count": null,
      "outputs": []
    },
    {
      "cell_type": "code",
      "source": [
        "#sp_nws21 > div > div > div.news_contents > div > div > a\n",
        "body=BeautifulSoup(resp.content,'lxml').select('a.api_txt_lines.dsc_txt_wrap') # 개발자에서 복사하면 . 이 누락되는경우가 있다 이경우 스크랩 안됨\n",
        "\n",
        "body\n",
        "for b in body:\n",
        "    print(b.text)\n",
        "    print('---------------')"
      ],
      "metadata": {
        "id": "qADEvoWbXo9Z"
      },
      "execution_count": null,
      "outputs": []
    },
    {
      "cell_type": "code",
      "source": [
        "all_news_list=[]\n",
        "for t,b in zip(titles_slt,body):\n",
        "    single_news ={'title':t.text,'body':b.text} # 딕셔너리\n",
        "    all_news_list.append(single_news)\n",
        "all_news_list\n",
        "\n",
        "import pandas as pd\n",
        "news_df=pd.DataFrame(all_news_list)\n",
        "news_df.to_csv('adsf.csv',index=False)"
      ],
      "metadata": {
        "id": "lx5cuNdobfrb"
      },
      "execution_count": 85,
      "outputs": []
    },
    {
      "cell_type": "code",
      "source": [
        "my_df=pd.read_csv('adsf.csv')\n",
        "my_df"
      ],
      "metadata": {
        "id": "5R6tOk5RdX7w"
      },
      "execution_count": null,
      "outputs": []
    },
    {
      "cell_type": "markdown",
      "source": [
        "# 아래는 하나로 합친것"
      ],
      "metadata": {
        "id": "MQxpgllkgrwU"
      }
    },
    {
      "cell_type": "code",
      "source": [
        "dic={'Mozilla/5.0 (Windows NT 10.0; Win64; x64) AppleWebKit/537.36 (KHTML, like Gecko) Chrome/119.0.0.0 Safari/537.36 Edg/119.0.0.0'}\n",
        "resp= requests.get('https://search.naver.com/search.naver?where=news&sm=tab_pge&query=%EC%82%BC%EC%84%B1&sort=0&photo=0&field=0&pd=0&ds=&de=&cluster_rank=40&mynews=0&office_type=0&office_section_code=0&news_office_checked=&office_category=0&service_area=0&nso=so:r,p:all,a:all&start=1')\n",
        "resp.content\n",
        "print(resp)\n",
        "\n",
        "title=BeautifulSoup(resp.content,'lxml').select('.news_tit')\n",
        "body=BeautifulSoup(resp.content,'lxml').select('a.api_txt_lines.dsc_txt_wrap')\n",
        "\n",
        "all_news_list=[]\n",
        "for t,b in zip(title,body):\n",
        "    single_news ={'title':t.text,'body':b.text} # 딕셔너리\n",
        "    all_news_list.append(single_news)\n",
        "all_news_list\n",
        "import pandas as pd\n",
        "news_df=pd.DataFrame(all_news_list)\n",
        "news_df"
      ],
      "metadata": {
        "colab": {
          "base_uri": "https://localhost:8080/",
          "height": 71
        },
        "id": "liYlzs1KgJkS",
        "outputId": "26883ba1-88f0-4cb5-b946-1ddf21d84f00"
      },
      "execution_count": 91,
      "outputs": [
        {
          "output_type": "stream",
          "name": "stdout",
          "text": [
            "<Response [403]>\n"
          ]
        },
        {
          "output_type": "execute_result",
          "data": {
            "text/plain": [
              "Empty DataFrame\n",
              "Columns: []\n",
              "Index: []"
            ],
            "text/html": [
              "\n",
              "  <div id=\"df-6f219c54-2b21-414f-91a8-ae1b7505bb20\" class=\"colab-df-container\">\n",
              "    <div>\n",
              "<style scoped>\n",
              "    .dataframe tbody tr th:only-of-type {\n",
              "        vertical-align: middle;\n",
              "    }\n",
              "\n",
              "    .dataframe tbody tr th {\n",
              "        vertical-align: top;\n",
              "    }\n",
              "\n",
              "    .dataframe thead th {\n",
              "        text-align: right;\n",
              "    }\n",
              "</style>\n",
              "<table border=\"1\" class=\"dataframe\">\n",
              "  <thead>\n",
              "    <tr style=\"text-align: right;\">\n",
              "      <th></th>\n",
              "    </tr>\n",
              "  </thead>\n",
              "  <tbody>\n",
              "  </tbody>\n",
              "</table>\n",
              "</div>\n",
              "    <div class=\"colab-df-buttons\">\n",
              "\n",
              "  <div class=\"colab-df-container\">\n",
              "    <button class=\"colab-df-convert\" onclick=\"convertToInteractive('df-6f219c54-2b21-414f-91a8-ae1b7505bb20')\"\n",
              "            title=\"Convert this dataframe to an interactive table.\"\n",
              "            style=\"display:none;\">\n",
              "\n",
              "  <svg xmlns=\"http://www.w3.org/2000/svg\" height=\"24px\" viewBox=\"0 -960 960 960\">\n",
              "    <path d=\"M120-120v-720h720v720H120Zm60-500h600v-160H180v160Zm220 220h160v-160H400v160Zm0 220h160v-160H400v160ZM180-400h160v-160H180v160Zm440 0h160v-160H620v160ZM180-180h160v-160H180v160Zm440 0h160v-160H620v160Z\"/>\n",
              "  </svg>\n",
              "    </button>\n",
              "\n",
              "  <style>\n",
              "    .colab-df-container {\n",
              "      display:flex;\n",
              "      gap: 12px;\n",
              "    }\n",
              "\n",
              "    .colab-df-convert {\n",
              "      background-color: #E8F0FE;\n",
              "      border: none;\n",
              "      border-radius: 50%;\n",
              "      cursor: pointer;\n",
              "      display: none;\n",
              "      fill: #1967D2;\n",
              "      height: 32px;\n",
              "      padding: 0 0 0 0;\n",
              "      width: 32px;\n",
              "    }\n",
              "\n",
              "    .colab-df-convert:hover {\n",
              "      background-color: #E2EBFA;\n",
              "      box-shadow: 0px 1px 2px rgba(60, 64, 67, 0.3), 0px 1px 3px 1px rgba(60, 64, 67, 0.15);\n",
              "      fill: #174EA6;\n",
              "    }\n",
              "\n",
              "    .colab-df-buttons div {\n",
              "      margin-bottom: 4px;\n",
              "    }\n",
              "\n",
              "    [theme=dark] .colab-df-convert {\n",
              "      background-color: #3B4455;\n",
              "      fill: #D2E3FC;\n",
              "    }\n",
              "\n",
              "    [theme=dark] .colab-df-convert:hover {\n",
              "      background-color: #434B5C;\n",
              "      box-shadow: 0px 1px 3px 1px rgba(0, 0, 0, 0.15);\n",
              "      filter: drop-shadow(0px 1px 2px rgba(0, 0, 0, 0.3));\n",
              "      fill: #FFFFFF;\n",
              "    }\n",
              "  </style>\n",
              "\n",
              "    <script>\n",
              "      const buttonEl =\n",
              "        document.querySelector('#df-6f219c54-2b21-414f-91a8-ae1b7505bb20 button.colab-df-convert');\n",
              "      buttonEl.style.display =\n",
              "        google.colab.kernel.accessAllowed ? 'block' : 'none';\n",
              "\n",
              "      async function convertToInteractive(key) {\n",
              "        const element = document.querySelector('#df-6f219c54-2b21-414f-91a8-ae1b7505bb20');\n",
              "        const dataTable =\n",
              "          await google.colab.kernel.invokeFunction('convertToInteractive',\n",
              "                                                    [key], {});\n",
              "        if (!dataTable) return;\n",
              "\n",
              "        const docLinkHtml = 'Like what you see? Visit the ' +\n",
              "          '<a target=\"_blank\" href=https://colab.research.google.com/notebooks/data_table.ipynb>data table notebook</a>'\n",
              "          + ' to learn more about interactive tables.';\n",
              "        element.innerHTML = '';\n",
              "        dataTable['output_type'] = 'display_data';\n",
              "        await google.colab.output.renderOutput(dataTable, element);\n",
              "        const docLink = document.createElement('div');\n",
              "        docLink.innerHTML = docLinkHtml;\n",
              "        element.appendChild(docLink);\n",
              "      }\n",
              "    </script>\n",
              "  </div>\n",
              "\n",
              "    </div>\n",
              "  </div>\n"
            ]
          },
          "metadata": {},
          "execution_count": 91
        }
      ]
    },
    {
      "cell_type": "markdown",
      "source": [
        "# 파일로받기"
      ],
      "metadata": {
        "id": "Rhn7gQCmmcFT"
      }
    },
    {
      "cell_type": "code",
      "source": [
        "with open('naver_news.txt','r') as f: #파일열기\n",
        "    cvv=f.read()\n",
        "title=BeautifulSoup(cvv,'lxml').select('.news_tit')\n",
        "body=BeautifulSoup(cvv,'lxml').select('a.api_txt_lines.dsc_txt_wrap')\n",
        "\n",
        "all_news_list=[]\n",
        "for t,b in zip(title,body):\n",
        "    single_news ={'title':t.text,'body':b.text} # 딕셔너리\n",
        "    all_news_list.append(single_news)\n",
        "all_news_list\n",
        "import pandas as pd\n",
        "news_df=pd.DataFrame(all_news_list)\n",
        "news_df"
      ],
      "metadata": {
        "id": "argjo7p3ktOU"
      },
      "execution_count": null,
      "outputs": []
    },
    {
      "cell_type": "markdown",
      "source": [
        "# 시간 받아오기"
      ],
      "metadata": {
        "id": "1hn5XA_5m04X"
      }
    },
    {
      "cell_type": "code",
      "source": [
        "time=BeautifulSoup(cvv,'lxml').select('.info_group span')\n",
        "#sp_nws21 > div > div > div.news_info > div.info_group > span\n",
        "for t in time:\n",
        "    if '전' in t.text:\n",
        "        print(t.text.split('전')[0].strip())\n"
      ],
      "metadata": {
        "id": "Y1p73Tk_liRi"
      },
      "execution_count": null,
      "outputs": []
    },
    {
      "cell_type": "markdown",
      "source": [
        "## 정규표현식 응용"
      ],
      "metadata": {
        "id": "O_-ImfyRonC9"
      }
    },
    {
      "cell_type": "code",
      "source": [
        "import re\n",
        "time=BeautifulSoup(cvv,'lxml').select('.info_group')\n",
        "#sp_nws21 > div > div > div.news_info > div.info_group > span\n",
        "for t in time:\n",
        "    # print(t.text)\n",
        "    print(re.findall('(\\d+[분|시|일|주|달])',t.text)[0])\n",
        "\n",
        "import datetime\n",
        "kst=datetime.timezone(datetime.timedelta(hours=9))# 한국기준시로 바꾸기\n",
        "datetime.datetime.now(kst) +datetime.timedelta(days=100)"
      ],
      "metadata": {
        "id": "lE92tA4eoime"
      },
      "execution_count": null,
      "outputs": []
    },
    {
      "cell_type": "code",
      "source": [
        "#apply\n",
        "def calc_release(df):\n",
        "    if '시' in df['before']:\n",
        "        h = int(df['before'].split('시')[0])\n",
        "        return df['scrap day']-datetime.timedelta(hours=h)\n",
        "    elif '일' in df['before']:\n",
        "        d = int(df['before'].split('일')[0])\n",
        "        return df['scrap day']-datetime.timedelta(days=d)\n",
        "    elif '주' in df['before']:\n",
        "        w = int(df['before'].split('주')[0])\n",
        "        return df['scrap day']-datetime.timedelta(weeks=w)\n",
        "    elif '분' in df['before']:\n",
        "        m = int(df['before'].split('분')[0])\n",
        "        return df['scrap day']\n",
        "\n",
        "news_df.apply(calc_release,axis=1)"
      ],
      "metadata": {
        "id": "mkgch1Tltlxu"
      },
      "execution_count": null,
      "outputs": []
    },
    {
      "cell_type": "code",
      "source": [
        "\n",
        "all_news_list=[]\n",
        "for i in range(10):\n",
        "    with open(f'naver_news_{i}.txt','r') as f: # f스트링을 이용한 방법 포멧보다 낫다\n",
        "        cvv=f.read()\n",
        "\n",
        "    title=BeautifulSoup(cvv,'lxml').select('.news_tit')\n",
        "    body=BeautifulSoup(cvv,'lxml').select('a.api_txt_lines.dsc_txt_wrap')\n",
        "    time=BeautifulSoup(cvv,'lxml').select('.info_group')\n",
        "\n",
        "\n",
        "    for t,b,m in zip(title,body,time):\n",
        "        single_news ={'title':t.text,'body':b.text,'before':re.findall('(\\d+[분|시|일|주|달])',m.text)[0],'scrap day':datetime.datetime.now(kst).date()} # 딕셔너리\n",
        "        all_news_list.append(single_news)\n",
        "    all_news_list\n",
        "\n",
        "import pandas as pd\n",
        "news_df=pd.DataFrame(all_news_list)\n",
        "\n",
        "news_df['release_date']=news_df.apply(calc_release,axis=1)\n",
        "news_df\n"
      ],
      "metadata": {
        "id": "oDo5ZIJBpSug"
      },
      "execution_count": null,
      "outputs": []
    },
    {
      "cell_type": "code",
      "source": [
        "news_df['release_date'].value_counts()\n",
        "\n",
        "from matplotlib import pyplot as plt\n",
        "import seaborn as sns\n",
        "import plotly.express as px\n",
        "\n",
        "fig=px.pie(news_df,names='release_date')\n",
        "fig\n"
      ],
      "metadata": {
        "colab": {
          "base_uri": "https://localhost:8080/",
          "height": 542
        },
        "id": "JIGH19Ux5Tcx",
        "outputId": "38c1f7b2-0b31-4e40-890c-fe2c65053d76"
      },
      "execution_count": 169,
      "outputs": [
        {
          "output_type": "display_data",
          "data": {
            "text/html": [
              "<html>\n",
              "<head><meta charset=\"utf-8\" /></head>\n",
              "<body>\n",
              "    <div>            <script src=\"https://cdnjs.cloudflare.com/ajax/libs/mathjax/2.7.5/MathJax.js?config=TeX-AMS-MML_SVG\"></script><script type=\"text/javascript\">if (window.MathJax && window.MathJax.Hub && window.MathJax.Hub.Config) {window.MathJax.Hub.Config({SVG: {font: \"STIX-Web\"}});}</script>                <script type=\"text/javascript\">window.PlotlyConfig = {MathJaxConfig: 'local'};</script>\n",
              "        <script charset=\"utf-8\" src=\"https://cdn.plot.ly/plotly-2.24.1.min.js\"></script>                <div id=\"17212845-95f2-4291-b163-6b0b590efcc0\" class=\"plotly-graph-div\" style=\"height:525px; width:100%;\"></div>            <script type=\"text/javascript\">                                    window.PLOTLYENV=window.PLOTLYENV || {};                                    if (document.getElementById(\"17212845-95f2-4291-b163-6b0b590efcc0\")) {                    Plotly.newPlot(                        \"17212845-95f2-4291-b163-6b0b590efcc0\",                        [{\"domain\":{\"x\":[0.0,1.0],\"y\":[0.0,1.0]},\"hovertemplate\":\"release_date=%{label}\\u003cextra\\u003e\\u003c\\u002fextra\\u003e\",\"labels\":[\"2023-11-23\",\"2023-11-23\",\"2023-11-23\",\"2023-11-23\",\"2023-11-23\",\"2023-11-22\",\"2023-11-22\",\"2023-11-23\",\"2023-11-23\",\"2023-11-22\",\"2023-11-22\",\"2023-11-23\",\"2023-11-23\",\"2023-11-23\",\"2023-11-22\",\"2023-11-21\",\"2023-11-23\",\"2023-11-21\",\"2023-11-23\",\"2023-11-23\",\"2023-11-23\",\"2023-11-23\",\"2023-11-11\",\"2023-11-21\",\"2023-11-23\",\"2023-11-21\",\"2023-11-16\",\"2023-11-22\",\"2023-11-16\",\"2023-11-23\",\"2023-11-21\",\"2023-11-23\",\"2023-11-23\",\"2023-11-21\",\"2023-11-19\",\"2023-11-20\",\"2023-11-19\",\"2023-11-16\",\"2023-11-22\",\"2023-11-23\",\"2023-11-16\",\"2023-11-16\",\"2023-11-16\",\"2023-11-22\",\"2023-11-16\",\"2023-11-18\",\"2023-11-21\",\"2023-11-16\",\"2023-11-16\",\"2023-11-22\",\"2023-11-16\",\"2023-11-23\",\"2023-11-20\",\"2023-11-21\",\"2023-11-22\",\"2023-11-16\",\"2023-11-16\",\"2023-11-16\",\"2023-11-16\",\"2023-11-11\",\"2023-11-16\",\"2023-11-23\",\"2023-11-16\",\"2023-11-16\",\"2023-11-16\",\"2023-11-23\",\"2023-11-17\",\"2023-11-20\",\"2023-11-10\",\"2023-11-16\",\"2023-11-16\",\"2023-11-21\",\"2023-11-23\",\"2023-11-21\",\"2023-11-22\",\"2023-11-16\",\"2023-11-22\",\"2023-11-17\",\"2023-11-21\",\"2023-11-19\",\"2023-11-23\",\"2023-11-22\",\"2023-11-16\",\"2023-11-11\",\"2023-11-23\",\"2023-11-23\",\"2023-11-23\",\"2023-11-16\",\"2023-11-17\",\"2023-11-23\",\"2023-11-23\",\"2023-11-23\",\"2023-11-21\",\"2023-11-17\",\"2023-11-16\",\"2023-11-22\",\"2023-11-16\",\"2023-11-16\",\"2023-11-23\",\"2023-11-16\"],\"legendgroup\":\"\",\"name\":\"\",\"showlegend\":true,\"type\":\"pie\"}],                        {\"template\":{\"data\":{\"histogram2dcontour\":[{\"type\":\"histogram2dcontour\",\"colorbar\":{\"outlinewidth\":0,\"ticks\":\"\"},\"colorscale\":[[0.0,\"#0d0887\"],[0.1111111111111111,\"#46039f\"],[0.2222222222222222,\"#7201a8\"],[0.3333333333333333,\"#9c179e\"],[0.4444444444444444,\"#bd3786\"],[0.5555555555555556,\"#d8576b\"],[0.6666666666666666,\"#ed7953\"],[0.7777777777777778,\"#fb9f3a\"],[0.8888888888888888,\"#fdca26\"],[1.0,\"#f0f921\"]]}],\"choropleth\":[{\"type\":\"choropleth\",\"colorbar\":{\"outlinewidth\":0,\"ticks\":\"\"}}],\"histogram2d\":[{\"type\":\"histogram2d\",\"colorbar\":{\"outlinewidth\":0,\"ticks\":\"\"},\"colorscale\":[[0.0,\"#0d0887\"],[0.1111111111111111,\"#46039f\"],[0.2222222222222222,\"#7201a8\"],[0.3333333333333333,\"#9c179e\"],[0.4444444444444444,\"#bd3786\"],[0.5555555555555556,\"#d8576b\"],[0.6666666666666666,\"#ed7953\"],[0.7777777777777778,\"#fb9f3a\"],[0.8888888888888888,\"#fdca26\"],[1.0,\"#f0f921\"]]}],\"heatmap\":[{\"type\":\"heatmap\",\"colorbar\":{\"outlinewidth\":0,\"ticks\":\"\"},\"colorscale\":[[0.0,\"#0d0887\"],[0.1111111111111111,\"#46039f\"],[0.2222222222222222,\"#7201a8\"],[0.3333333333333333,\"#9c179e\"],[0.4444444444444444,\"#bd3786\"],[0.5555555555555556,\"#d8576b\"],[0.6666666666666666,\"#ed7953\"],[0.7777777777777778,\"#fb9f3a\"],[0.8888888888888888,\"#fdca26\"],[1.0,\"#f0f921\"]]}],\"heatmapgl\":[{\"type\":\"heatmapgl\",\"colorbar\":{\"outlinewidth\":0,\"ticks\":\"\"},\"colorscale\":[[0.0,\"#0d0887\"],[0.1111111111111111,\"#46039f\"],[0.2222222222222222,\"#7201a8\"],[0.3333333333333333,\"#9c179e\"],[0.4444444444444444,\"#bd3786\"],[0.5555555555555556,\"#d8576b\"],[0.6666666666666666,\"#ed7953\"],[0.7777777777777778,\"#fb9f3a\"],[0.8888888888888888,\"#fdca26\"],[1.0,\"#f0f921\"]]}],\"contourcarpet\":[{\"type\":\"contourcarpet\",\"colorbar\":{\"outlinewidth\":0,\"ticks\":\"\"}}],\"contour\":[{\"type\":\"contour\",\"colorbar\":{\"outlinewidth\":0,\"ticks\":\"\"},\"colorscale\":[[0.0,\"#0d0887\"],[0.1111111111111111,\"#46039f\"],[0.2222222222222222,\"#7201a8\"],[0.3333333333333333,\"#9c179e\"],[0.4444444444444444,\"#bd3786\"],[0.5555555555555556,\"#d8576b\"],[0.6666666666666666,\"#ed7953\"],[0.7777777777777778,\"#fb9f3a\"],[0.8888888888888888,\"#fdca26\"],[1.0,\"#f0f921\"]]}],\"surface\":[{\"type\":\"surface\",\"colorbar\":{\"outlinewidth\":0,\"ticks\":\"\"},\"colorscale\":[[0.0,\"#0d0887\"],[0.1111111111111111,\"#46039f\"],[0.2222222222222222,\"#7201a8\"],[0.3333333333333333,\"#9c179e\"],[0.4444444444444444,\"#bd3786\"],[0.5555555555555556,\"#d8576b\"],[0.6666666666666666,\"#ed7953\"],[0.7777777777777778,\"#fb9f3a\"],[0.8888888888888888,\"#fdca26\"],[1.0,\"#f0f921\"]]}],\"mesh3d\":[{\"type\":\"mesh3d\",\"colorbar\":{\"outlinewidth\":0,\"ticks\":\"\"}}],\"scatter\":[{\"fillpattern\":{\"fillmode\":\"overlay\",\"size\":10,\"solidity\":0.2},\"type\":\"scatter\"}],\"parcoords\":[{\"type\":\"parcoords\",\"line\":{\"colorbar\":{\"outlinewidth\":0,\"ticks\":\"\"}}}],\"scatterpolargl\":[{\"type\":\"scatterpolargl\",\"marker\":{\"colorbar\":{\"outlinewidth\":0,\"ticks\":\"\"}}}],\"bar\":[{\"error_x\":{\"color\":\"#2a3f5f\"},\"error_y\":{\"color\":\"#2a3f5f\"},\"marker\":{\"line\":{\"color\":\"#E5ECF6\",\"width\":0.5},\"pattern\":{\"fillmode\":\"overlay\",\"size\":10,\"solidity\":0.2}},\"type\":\"bar\"}],\"scattergeo\":[{\"type\":\"scattergeo\",\"marker\":{\"colorbar\":{\"outlinewidth\":0,\"ticks\":\"\"}}}],\"scatterpolar\":[{\"type\":\"scatterpolar\",\"marker\":{\"colorbar\":{\"outlinewidth\":0,\"ticks\":\"\"}}}],\"histogram\":[{\"marker\":{\"pattern\":{\"fillmode\":\"overlay\",\"size\":10,\"solidity\":0.2}},\"type\":\"histogram\"}],\"scattergl\":[{\"type\":\"scattergl\",\"marker\":{\"colorbar\":{\"outlinewidth\":0,\"ticks\":\"\"}}}],\"scatter3d\":[{\"type\":\"scatter3d\",\"line\":{\"colorbar\":{\"outlinewidth\":0,\"ticks\":\"\"}},\"marker\":{\"colorbar\":{\"outlinewidth\":0,\"ticks\":\"\"}}}],\"scattermapbox\":[{\"type\":\"scattermapbox\",\"marker\":{\"colorbar\":{\"outlinewidth\":0,\"ticks\":\"\"}}}],\"scatterternary\":[{\"type\":\"scatterternary\",\"marker\":{\"colorbar\":{\"outlinewidth\":0,\"ticks\":\"\"}}}],\"scattercarpet\":[{\"type\":\"scattercarpet\",\"marker\":{\"colorbar\":{\"outlinewidth\":0,\"ticks\":\"\"}}}],\"carpet\":[{\"aaxis\":{\"endlinecolor\":\"#2a3f5f\",\"gridcolor\":\"white\",\"linecolor\":\"white\",\"minorgridcolor\":\"white\",\"startlinecolor\":\"#2a3f5f\"},\"baxis\":{\"endlinecolor\":\"#2a3f5f\",\"gridcolor\":\"white\",\"linecolor\":\"white\",\"minorgridcolor\":\"white\",\"startlinecolor\":\"#2a3f5f\"},\"type\":\"carpet\"}],\"table\":[{\"cells\":{\"fill\":{\"color\":\"#EBF0F8\"},\"line\":{\"color\":\"white\"}},\"header\":{\"fill\":{\"color\":\"#C8D4E3\"},\"line\":{\"color\":\"white\"}},\"type\":\"table\"}],\"barpolar\":[{\"marker\":{\"line\":{\"color\":\"#E5ECF6\",\"width\":0.5},\"pattern\":{\"fillmode\":\"overlay\",\"size\":10,\"solidity\":0.2}},\"type\":\"barpolar\"}],\"pie\":[{\"automargin\":true,\"type\":\"pie\"}]},\"layout\":{\"autotypenumbers\":\"strict\",\"colorway\":[\"#636efa\",\"#EF553B\",\"#00cc96\",\"#ab63fa\",\"#FFA15A\",\"#19d3f3\",\"#FF6692\",\"#B6E880\",\"#FF97FF\",\"#FECB52\"],\"font\":{\"color\":\"#2a3f5f\"},\"hovermode\":\"closest\",\"hoverlabel\":{\"align\":\"left\"},\"paper_bgcolor\":\"white\",\"plot_bgcolor\":\"#E5ECF6\",\"polar\":{\"bgcolor\":\"#E5ECF6\",\"angularaxis\":{\"gridcolor\":\"white\",\"linecolor\":\"white\",\"ticks\":\"\"},\"radialaxis\":{\"gridcolor\":\"white\",\"linecolor\":\"white\",\"ticks\":\"\"}},\"ternary\":{\"bgcolor\":\"#E5ECF6\",\"aaxis\":{\"gridcolor\":\"white\",\"linecolor\":\"white\",\"ticks\":\"\"},\"baxis\":{\"gridcolor\":\"white\",\"linecolor\":\"white\",\"ticks\":\"\"},\"caxis\":{\"gridcolor\":\"white\",\"linecolor\":\"white\",\"ticks\":\"\"}},\"coloraxis\":{\"colorbar\":{\"outlinewidth\":0,\"ticks\":\"\"}},\"colorscale\":{\"sequential\":[[0.0,\"#0d0887\"],[0.1111111111111111,\"#46039f\"],[0.2222222222222222,\"#7201a8\"],[0.3333333333333333,\"#9c179e\"],[0.4444444444444444,\"#bd3786\"],[0.5555555555555556,\"#d8576b\"],[0.6666666666666666,\"#ed7953\"],[0.7777777777777778,\"#fb9f3a\"],[0.8888888888888888,\"#fdca26\"],[1.0,\"#f0f921\"]],\"sequentialminus\":[[0.0,\"#0d0887\"],[0.1111111111111111,\"#46039f\"],[0.2222222222222222,\"#7201a8\"],[0.3333333333333333,\"#9c179e\"],[0.4444444444444444,\"#bd3786\"],[0.5555555555555556,\"#d8576b\"],[0.6666666666666666,\"#ed7953\"],[0.7777777777777778,\"#fb9f3a\"],[0.8888888888888888,\"#fdca26\"],[1.0,\"#f0f921\"]],\"diverging\":[[0,\"#8e0152\"],[0.1,\"#c51b7d\"],[0.2,\"#de77ae\"],[0.3,\"#f1b6da\"],[0.4,\"#fde0ef\"],[0.5,\"#f7f7f7\"],[0.6,\"#e6f5d0\"],[0.7,\"#b8e186\"],[0.8,\"#7fbc41\"],[0.9,\"#4d9221\"],[1,\"#276419\"]]},\"xaxis\":{\"gridcolor\":\"white\",\"linecolor\":\"white\",\"ticks\":\"\",\"title\":{\"standoff\":15},\"zerolinecolor\":\"white\",\"automargin\":true,\"zerolinewidth\":2},\"yaxis\":{\"gridcolor\":\"white\",\"linecolor\":\"white\",\"ticks\":\"\",\"title\":{\"standoff\":15},\"zerolinecolor\":\"white\",\"automargin\":true,\"zerolinewidth\":2},\"scene\":{\"xaxis\":{\"backgroundcolor\":\"#E5ECF6\",\"gridcolor\":\"white\",\"linecolor\":\"white\",\"showbackground\":true,\"ticks\":\"\",\"zerolinecolor\":\"white\",\"gridwidth\":2},\"yaxis\":{\"backgroundcolor\":\"#E5ECF6\",\"gridcolor\":\"white\",\"linecolor\":\"white\",\"showbackground\":true,\"ticks\":\"\",\"zerolinecolor\":\"white\",\"gridwidth\":2},\"zaxis\":{\"backgroundcolor\":\"#E5ECF6\",\"gridcolor\":\"white\",\"linecolor\":\"white\",\"showbackground\":true,\"ticks\":\"\",\"zerolinecolor\":\"white\",\"gridwidth\":2}},\"shapedefaults\":{\"line\":{\"color\":\"#2a3f5f\"}},\"annotationdefaults\":{\"arrowcolor\":\"#2a3f5f\",\"arrowhead\":0,\"arrowwidth\":1},\"geo\":{\"bgcolor\":\"white\",\"landcolor\":\"#E5ECF6\",\"subunitcolor\":\"white\",\"showland\":true,\"showlakes\":true,\"lakecolor\":\"white\"},\"title\":{\"x\":0.05},\"mapbox\":{\"style\":\"light\"}}},\"legend\":{\"tracegroupgap\":0},\"margin\":{\"t\":60}},                        {\"responsive\": true}                    ).then(function(){\n",
              "                            \n",
              "var gd = document.getElementById('17212845-95f2-4291-b163-6b0b590efcc0');\n",
              "var x = new MutationObserver(function (mutations, observer) {{\n",
              "        var display = window.getComputedStyle(gd).display;\n",
              "        if (!display || display === 'none') {{\n",
              "            console.log([gd, 'removed!']);\n",
              "            Plotly.purge(gd);\n",
              "            observer.disconnect();\n",
              "        }}\n",
              "}});\n",
              "\n",
              "// Listen for the removal of the full notebook cells\n",
              "var notebookContainer = gd.closest('#notebook-container');\n",
              "if (notebookContainer) {{\n",
              "    x.observe(notebookContainer, {childList: true});\n",
              "}}\n",
              "\n",
              "// Listen for the clearing of the current output cell\n",
              "var outputEl = gd.closest('.output');\n",
              "if (outputEl) {{\n",
              "    x.observe(outputEl, {childList: true});\n",
              "}}\n",
              "\n",
              "                        })                };                            </script>        </div>\n",
              "</body>\n",
              "</html>"
            ]
          },
          "metadata": {}
        }
      ]
    },
    {
      "cell_type": "code",
      "source": [
        "cnt=news_df['release_date'].value_counts()\n",
        "cnt\n",
        "\n",
        "plt.pie(cnt.values,labels=cnt.index, autopct='%1.1f%%')\n",
        "plt.show()"
      ],
      "metadata": {
        "colab": {
          "base_uri": "https://localhost:8080/",
          "height": 406
        },
        "id": "ioLTB5tn7msK",
        "outputId": "c21098b9-1038-4b51-840e-3d2107b20eef"
      },
      "execution_count": 167,
      "outputs": [
        {
          "output_type": "display_data",
          "data": {
            "text/plain": [
              "<Figure size 640x480 with 1 Axes>"
            ],
            "image/png": "[encoded data removed]"
          },
          "metadata": {}
        }
      ]
    }
  ]
}