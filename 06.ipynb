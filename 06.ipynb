{
 "cells": [
  {
   "cell_type": "code",
   "execution_count": 1,
   "metadata": {},
   "outputs": [],
   "source": [
    "from selenium import webdriver\n",
    "from selenium.webdriver.common.by import By\n",
    "from selenium.webdriver.support.ui import WebDriverWait\n",
    "from selenium.webdriver.support import expected_conditions as EC\n",
    "\n",
    "from selenium.webdriver.chrome.service import Service as ChromeService\n",
    "from selenium.webdriver.chrome.options import Options as ChromeOptions\n",
    "\n",
    "from bs4 import BeautifulSoup\n",
    "import re\n",
    "\n",
    "import sys\n",
    "if 'ipykernel' in sys.modules:\n",
    "    from tqdm.notebook import tqdm\n",
    "else:\n",
    "    from tqdm import tqdm\n",
    "\n",
    "import pandas as pd\n",
    "import time\n",
    "\n",
    "from selenium import webdriver\n",
    "\n",
    "options = webdriver.ChromeOptions()\n",
    "options.add_argument(\"--headless\")\n",
    "options.add_argument('--disable-dev-shm-usage')\n",
    "options.add_argument(\"--no-sandbox\")  # sandbox 주요 요소 처리불가-> nosandbox 처리 가능\n",
    "\n",
    "driver = webdriver.Chrome(options=options)"
   ]
  },
  {
   "cell_type": "code",
   "execution_count": 9,
   "metadata": {},
   "outputs": [
    {
     "name": "stdout",
     "output_type": "stream",
     "text": [
      "[]\n"
     ]
    }
   ],
   "source": [
    "url='https://huggingface.co/models'\n",
    "driver.get(url)\n",
    "\n",
    "all_title=[]\n",
    "all_news=[]\n",
    "all_url=[]\n",
    "all_author=[] \n",
    "\n",
    "\n",
    "titles=driver.find_elements(By.TAG_NAME,'h4')\n",
    "\n",
    "for i in titles:\n",
    "    all_title.append(i.text)\n",
    "all_title=[i for i in all_title if i] \n",
    "\n",
    "print(all_title)\n",
    "\n",
    "\n",
    "for n in all_title:\n",
    "\n",
    "    print(n)\n",
    "    driver.find_element(By.PARTIAL_LINK_TEXT,n).click() #페이지 들어가기\n",
    "    time.sleep(1)\n",
    "    \n",
    "    nourl=driver.current_url#url 저장\n",
    "    all_url.append(nourl)\n",
    "    time.sleep(1)\n",
    "    \n",
    "    news=driver.find_element(By.CLASS_NAME,'relative.md:mt-2') # 뉴스 본문 저장\n",
    "    all_news.append(news.text)\n",
    "    print(all_news)\n",
    "\n",
    "  \n",
    "    # author=driver.find_element(By.CLASS_NAME,'whitespace-nowrap.underline') #저자 \n",
    "    # all_author.append(author.text)\n",
    "        \n",
    "    \n",
    "    driver.back()\n"
   ]
  },
  {
   "cell_type": "code",
   "execution_count": 14,
   "metadata": {},
   "outputs": [
    {
     "data": {
      "text/plain": [
       "['', '', '', '']"
      ]
     },
     "execution_count": 14,
     "metadata": {},
     "output_type": "execute_result"
    }
   ],
   "source": [
    "url='https://huggingface.co/stabilityai/sdxl-turbo'\n",
    "driver.get(url)\n",
    "\n",
    "news=driver.find_element(By.TAG_NAME,'p') # 뉴스 본문 저장\n",
    "\n",
    "all_news.append(news.text)\n",
    "all_news"
   ]
  }
 ],
 "metadata": {
  "kernelspec": {
   "display_name": "test",
   "language": "python",
   "name": "python3"
  },
  "language_info": {
   "codemirror_mode": {
    "name": "ipython",
    "version": 3
   },
   "file_extension": ".py",
   "mimetype": "text/x-python",
   "name": "python",
   "nbconvert_exporter": "python",
   "pygments_lexer": "ipython3",
   "version": "3.10.13"
  }
 },
 "nbformat": 4,
 "nbformat_minor": 2
}
