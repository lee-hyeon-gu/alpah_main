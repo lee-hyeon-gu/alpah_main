{
 "cells": [
  {
   "cell_type": "code",
   "execution_count": 1,
   "metadata": {},
   "outputs": [],
   "source": [
    "from selenium import webdriver\n",
    "from selenium.webdriver.common.by import By\n",
    "from selenium.webdriver.support.ui import WebDriverWait\n",
    "from selenium.webdriver.support import expected_conditions as EC\n",
    "\n",
    "from selenium.webdriver.chrome.service import Service as ChromeService\n",
    "from selenium.webdriver.chrome.options import Options as ChromeOptions\n",
    "\n",
    "from bs4 import BeautifulSoup\n",
    "import re\n",
    "\n",
    "import sys\n",
    "if 'ipykernel' in sys.modules:\n",
    "    from tqdm.notebook import tqdm\n",
    "else:\n",
    "    from tqdm import tqdm\n",
    "\n",
    "import pandas as pd\n",
    "import time\n",
    "\n",
    "from selenium import webdriver\n",
    "\n",
    "options = webdriver.ChromeOptions()\n",
    "options.add_argument(\"--headless\")\n",
    "options.add_argument('--disable-dev-shm-usage')\n",
    "options.add_argument(\"--no-sandbox\")  # sandbox 주요 요소 처리불가-> nosandbox 처리 가능\n",
    "\n",
    "driver = webdriver.Chrome(options=options)"
   ]
  },
  {
   "cell_type": "code",
   "execution_count": 31,
   "metadata": {},
   "outputs": [],
   "source": [
    "url='https://huggingface.co/papers'\n",
    "driver.get(url)\n",
    "time.sleep(0.2)\n",
    "\n",
    "all_title=[]\n",
    "all_news=[]\n",
    "all_url=[]\n",
    "all_author=[] \n",
    "\n",
    "titles=driver.find_elements(By.TAG_NAME,'h3')\n",
    "\n",
    "for i in titles:\n",
    "    all_title.append(i.text)\n",
    "all_title=[i for i in all_title if i] \n",
    "\n",
    "\n",
    "for n in all_title:\n",
    "\n",
    "    print(n)\n",
    "    driver.find_element(By.PARTIAL_LINK_TEXT,n).click() #페이지 들어가기\n",
    "    time.sleep(1)\n",
    "    \n",
    "    nourl=driver.current_url\n",
    "    all_url.append(nourl)\n",
    "    time.sleep(1)\n",
    "    \n",
    "    news=driver.find_element(By.TAG_NAME,'p')\n",
    "    all_news.append(news.text)\n",
    "\n",
    "  \n",
    "    author=driver.find_element(By.CLASS_NAME,'whitespace-nowrap.underline')\n",
    "    all_author.append(author.text)\n",
    "        \n",
    "    \n",
    "    driver.back()\n"
   ]
  },
  {
   "cell_type": "code",
   "execution_count": 29,
   "metadata": {},
   "outputs": [
    {
     "name": "stdout",
     "output_type": "stream",
     "text": [
      "['Jae Sung Park']\n"
     ]
    }
   ],
   "source": [
    "print(all_author)"
   ]
  },
  {
   "cell_type": "code",
   "execution_count": 30,
   "metadata": {},
   "outputs": [
    {
     "data": {
      "text/html": [
       "<div>\n",
       "<style scoped>\n",
       "    .dataframe tbody tr th:only-of-type {\n",
       "        vertical-align: middle;\n",
       "    }\n",
       "\n",
       "    .dataframe tbody tr th {\n",
       "        vertical-align: top;\n",
       "    }\n",
       "\n",
       "    .dataframe thead th {\n",
       "        text-align: right;\n",
       "    }\n",
       "</style>\n",
       "<table border=\"1\" class=\"dataframe\">\n",
       "  <thead>\n",
       "    <tr style=\"text-align: right;\">\n",
       "      <th></th>\n",
       "      <th>title</th>\n",
       "      <th>news</th>\n",
       "      <th>url</th>\n",
       "      <th>author</th>\n",
       "    </tr>\n",
       "  </thead>\n",
       "  <tbody>\n",
       "    <tr>\n",
       "      <th>0</th>\n",
       "      <td>SparQ Attention: Bandwidth-Efficient LLM Infer...</td>\n",
       "      <td>Generative large language models (LLMs) have o...</td>\n",
       "      <td>https://huggingface.co/papers/2312.04985</td>\n",
       "      <td>Jae Sung Park</td>\n",
       "    </tr>\n",
       "  </tbody>\n",
       "</table>\n",
       "</div>"
      ],
      "text/plain": [
       "                                               title  \\\n",
       "0  SparQ Attention: Bandwidth-Efficient LLM Infer...   \n",
       "\n",
       "                                                news  \\\n",
       "0  Generative large language models (LLMs) have o...   \n",
       "\n",
       "                                        url         author  \n",
       "0  https://huggingface.co/papers/2312.04985  Jae Sung Park  "
      ]
     },
     "execution_count": 30,
     "metadata": {},
     "output_type": "execute_result"
    }
   ],
   "source": [
    "sumnews=[]\n",
    "for t,n,u,a in zip(all_title,all_news,all_url,all_author):\n",
    "    singles={'title':t,'news':n,'url':u,'author':a}\n",
    "    sumnews.append(singles)\n",
    "\n",
    "import pandas as pd\n",
    "news_df=pd.DataFrame(sumnews)\n",
    "news_df"
   ]
  },
  {
   "cell_type": "code",
   "execution_count": 12,
   "metadata": {},
   "outputs": [],
   "source": [
    "# import csv\n",
    "# with open('test.txt','wt') as f:\n",
    "#     wt=csv.writer(f)\n",
    "#     wt.writerows(news_df)\n",
    "    \n",
    "news_df.to_excel('samtest.xlsx')"
   ]
  },
  {
   "cell_type": "code",
   "execution_count": 21,
   "metadata": {},
   "outputs": [
    {
     "name": "stdout",
     "output_type": "stream",
     "text": [
      "Luka Ribar\n",
      "Ivan Chelombiev\n",
      "Luke Hudlass-Galley\n",
      "Charlie Blake\n",
      "Carlo Luschi\n",
      "Douglas Orr\n"
     ]
    }
   ],
   "source": [
    "url='https://huggingface.co/papers/2312.04985'\n",
    "driver.get(url)\n",
    "\n",
    "sas=driver.find_elements(By.CLASS_NAME,'whitespace-nowrap.underline')\n",
    "\n",
    "for i in sas:\n",
    "    print(i.text)"
   ]
  }
 ],
 "metadata": {
  "kernelspec": {
   "display_name": "test",
   "language": "python",
   "name": "python3"
  },
  "language_info": {
   "codemirror_mode": {
    "name": "ipython",
    "version": 3
   },
   "file_extension": ".py",
   "mimetype": "text/x-python",
   "name": "python",
   "nbconvert_exporter": "python",
   "pygments_lexer": "ipython3",
   "version": "3.10.13"
  }
 },
 "nbformat": 4,
 "nbformat_minor": 2
}
