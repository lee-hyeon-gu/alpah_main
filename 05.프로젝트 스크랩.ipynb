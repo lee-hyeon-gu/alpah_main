{
 "cells": [
  {
   "cell_type": "code",
   "execution_count": 29,
   "metadata": {},
   "outputs": [],
   "source": [
    "from selenium import webdriver\n",
    "from selenium.webdriver.common.by import By\n",
    "from selenium.webdriver.support.ui import WebDriverWait\n",
    "from selenium.webdriver.support import expected_conditions as EC\n",
    "\n",
    "from selenium.webdriver.chrome.service import Service as ChromeService\n",
    "from selenium.webdriver.chrome.options import Options as ChromeOptions\n",
    "\n",
    "from bs4 import BeautifulSoup\n",
    "import re\n",
    "\n",
    "import sys\n",
    "if 'ipykernel' in sys.modules:\n",
    "    from tqdm.notebook import tqdm\n",
    "else:\n",
    "    from tqdm import tqdm\n",
    "\n",
    "import pandas as pd\n",
    "import time\n",
    "\n",
    "from selenium import webdriver\n",
    "\n",
    "options = webdriver.ChromeOptions()\n",
    "#options.add_argument(\"--headless\")\n",
    "options.add_argument('--disable-dev-shm-usage')\n",
    "options.add_argument(\"--no-sandbox\")  # sandbox 주요 요소 처리불가-> nosandbox 처리 가능\n",
    "\n",
    "driver = webdriver.Chrome(options=options)"
   ]
  },
  {
   "cell_type": "code",
   "execution_count": 30,
   "metadata": {},
   "outputs": [
    {
     "name": "stdout",
     "output_type": "stream",
     "text": [
      "FreeInit: Bridging Initialization Gap in Video Diffusion Models\n",
      "FreeControl: Training-Free Spatial Control of Any Text-to-Image Diffusion Model with Any Condition\n",
      "DiffMorpher: Unleashing the Capability of Diffusion Models for Image Morphing\n",
      "Rethinking Compression: Reduced Order Modelling of Latent Features in Large Language Models\n",
      "Alignment for Honesty\n",
      "Interfacing Foundation Models' Embeddings\n",
      "CCM: Adding Conditional Controls to Text-to-Image Consistency Models\n",
      "Fast Training of Diffusion Transformer with Extreme Masking for 3D Point Clouds Generation\n",
      "VILA: On Pre-training for Visual Language Models\n",
      "Honeybee: Locality-enhanced Projector for Multimodal LLM\n",
      "Steering Llama 2 via Contrastive Activation Addition\n",
      "Llama Guard: LLM-based Input-Output Safeguard for Human-AI Conversations\n",
      "COLMAP-Free 3D Gaussian Splatting\n",
      "How Well Does GPT-4V(ision) Adapt to Distribution Shifts? A Preliminary Investigation\n",
      "PEEKABOO: Interactive Video Generation via Masked-Diffusion\n",
      "\"I Want It That Way\": Enabling Interactive Decision Support Using Large Language Models and Constraint Programming\n",
      "LLM360: Towards Fully Transparent Open-Source LLMs\n",
      "Sherpa3D: Boosting High-Fidelity Text-to-3D Generation via Coarse 3D Prior\n",
      "Beyond Human Data: Scaling Self-Training for Problem-Solving with Language Models\n"
     ]
    },
    {
     "ename": "NoSuchElementException",
     "evalue": "Message: no such element: Unable to locate element: {\"method\":\"css selector\",\"selector\":\".whitespace-nowrap.underline\"}\n  (Session info: chrome=120.0.6099.71)\n",
     "output_type": "error",
     "traceback": [
      "\u001b[1;31m---------------------------------------------------------------------------\u001b[0m",
      "\u001b[1;31mNoSuchElementException\u001b[0m                    Traceback (most recent call last)",
      "Cell \u001b[1;32mIn[30], line 48\u001b[0m\n\u001b[0;32m     44\u001b[0m news\u001b[38;5;241m=\u001b[39mdriver\u001b[38;5;241m.\u001b[39mfind_element(By\u001b[38;5;241m.\u001b[39mTAG_NAME,\u001b[38;5;124m'\u001b[39m\u001b[38;5;124mp\u001b[39m\u001b[38;5;124m'\u001b[39m) \u001b[38;5;66;03m# 뉴스 본문 저장\u001b[39;00m\n\u001b[0;32m     45\u001b[0m real_all_news\u001b[38;5;241m.\u001b[39mappend(news\u001b[38;5;241m.\u001b[39mtext)\n\u001b[1;32m---> 48\u001b[0m author\u001b[38;5;241m=\u001b[39m\u001b[43mdriver\u001b[49m\u001b[38;5;241;43m.\u001b[39;49m\u001b[43mfind_element\u001b[49m\u001b[43m(\u001b[49m\u001b[43mBy\u001b[49m\u001b[38;5;241;43m.\u001b[39;49m\u001b[43mCLASS_NAME\u001b[49m\u001b[43m,\u001b[49m\u001b[38;5;124;43m'\u001b[39;49m\u001b[38;5;124;43mwhitespace-nowrap.underline\u001b[39;49m\u001b[38;5;124;43m'\u001b[39;49m\u001b[43m)\u001b[49m \u001b[38;5;66;03m#저자 \u001b[39;00m\n\u001b[0;32m     49\u001b[0m real_all_author\u001b[38;5;241m.\u001b[39mappend(author\u001b[38;5;241m.\u001b[39mtext)\n\u001b[0;32m     52\u001b[0m driver\u001b[38;5;241m.\u001b[39mback()\n",
      "File \u001b[1;32mc:\\anaconda\\envs\\alpha\\lib\\site-packages\\selenium\\webdriver\\remote\\webdriver.py:976\u001b[0m, in \u001b[0;36mWebDriver.find_element\u001b[1;34m(self, by, value)\u001b[0m\n\u001b[0;32m    974\u001b[0m         by \u001b[38;5;241m=\u001b[39m By\u001b[38;5;241m.\u001b[39mCSS_SELECTOR\n\u001b[0;32m    975\u001b[0m         value \u001b[38;5;241m=\u001b[39m \u001b[38;5;124m'\u001b[39m\u001b[38;5;124m[name=\u001b[39m\u001b[38;5;124m\"\u001b[39m\u001b[38;5;132;01m%s\u001b[39;00m\u001b[38;5;124m\"\u001b[39m\u001b[38;5;124m]\u001b[39m\u001b[38;5;124m'\u001b[39m \u001b[38;5;241m%\u001b[39m value\n\u001b[1;32m--> 976\u001b[0m \u001b[38;5;28;01mreturn\u001b[39;00m \u001b[38;5;28;43mself\u001b[39;49m\u001b[38;5;241;43m.\u001b[39;49m\u001b[43mexecute\u001b[49m\u001b[43m(\u001b[49m\u001b[43mCommand\u001b[49m\u001b[38;5;241;43m.\u001b[39;49m\u001b[43mFIND_ELEMENT\u001b[49m\u001b[43m,\u001b[49m\u001b[43m \u001b[49m\u001b[43m{\u001b[49m\n\u001b[0;32m    977\u001b[0m \u001b[43m    \u001b[49m\u001b[38;5;124;43m'\u001b[39;49m\u001b[38;5;124;43musing\u001b[39;49m\u001b[38;5;124;43m'\u001b[39;49m\u001b[43m:\u001b[49m\u001b[43m \u001b[49m\u001b[43mby\u001b[49m\u001b[43m,\u001b[49m\n\u001b[0;32m    978\u001b[0m \u001b[43m    \u001b[49m\u001b[38;5;124;43m'\u001b[39;49m\u001b[38;5;124;43mvalue\u001b[39;49m\u001b[38;5;124;43m'\u001b[39;49m\u001b[43m:\u001b[49m\u001b[43m \u001b[49m\u001b[43mvalue\u001b[49m\u001b[43m}\u001b[49m\u001b[43m)\u001b[49m[\u001b[38;5;124m'\u001b[39m\u001b[38;5;124mvalue\u001b[39m\u001b[38;5;124m'\u001b[39m]\n",
      "File \u001b[1;32mc:\\anaconda\\envs\\alpha\\lib\\site-packages\\selenium\\webdriver\\remote\\webdriver.py:321\u001b[0m, in \u001b[0;36mWebDriver.execute\u001b[1;34m(self, driver_command, params)\u001b[0m\n\u001b[0;32m    319\u001b[0m response \u001b[38;5;241m=\u001b[39m \u001b[38;5;28mself\u001b[39m\u001b[38;5;241m.\u001b[39mcommand_executor\u001b[38;5;241m.\u001b[39mexecute(driver_command, params)\n\u001b[0;32m    320\u001b[0m \u001b[38;5;28;01mif\u001b[39;00m response:\n\u001b[1;32m--> 321\u001b[0m     \u001b[38;5;28;43mself\u001b[39;49m\u001b[38;5;241;43m.\u001b[39;49m\u001b[43merror_handler\u001b[49m\u001b[38;5;241;43m.\u001b[39;49m\u001b[43mcheck_response\u001b[49m\u001b[43m(\u001b[49m\u001b[43mresponse\u001b[49m\u001b[43m)\u001b[49m\n\u001b[0;32m    322\u001b[0m     response[\u001b[38;5;124m'\u001b[39m\u001b[38;5;124mvalue\u001b[39m\u001b[38;5;124m'\u001b[39m] \u001b[38;5;241m=\u001b[39m \u001b[38;5;28mself\u001b[39m\u001b[38;5;241m.\u001b[39m_unwrap_value(\n\u001b[0;32m    323\u001b[0m         response\u001b[38;5;241m.\u001b[39mget(\u001b[38;5;124m'\u001b[39m\u001b[38;5;124mvalue\u001b[39m\u001b[38;5;124m'\u001b[39m, \u001b[38;5;28;01mNone\u001b[39;00m))\n\u001b[0;32m    324\u001b[0m     \u001b[38;5;28;01mreturn\u001b[39;00m response\n",
      "File \u001b[1;32mc:\\anaconda\\envs\\alpha\\lib\\site-packages\\selenium\\webdriver\\remote\\errorhandler.py:242\u001b[0m, in \u001b[0;36mErrorHandler.check_response\u001b[1;34m(self, response)\u001b[0m\n\u001b[0;32m    240\u001b[0m         alert_text \u001b[38;5;241m=\u001b[39m value[\u001b[38;5;124m'\u001b[39m\u001b[38;5;124malert\u001b[39m\u001b[38;5;124m'\u001b[39m]\u001b[38;5;241m.\u001b[39mget(\u001b[38;5;124m'\u001b[39m\u001b[38;5;124mtext\u001b[39m\u001b[38;5;124m'\u001b[39m)\n\u001b[0;32m    241\u001b[0m     \u001b[38;5;28;01mraise\u001b[39;00m exception_class(message, screen, stacktrace, alert_text)\n\u001b[1;32m--> 242\u001b[0m \u001b[38;5;28;01mraise\u001b[39;00m exception_class(message, screen, stacktrace)\n",
      "\u001b[1;31mNoSuchElementException\u001b[0m: Message: no such element: Unable to locate element: {\"method\":\"css selector\",\"selector\":\".whitespace-nowrap.underline\"}\n  (Session info: chrome=120.0.6099.71)\n"
     ]
    }
   ],
   "source": [
    "url='https://huggingface.co/papers'\n",
    "driver.get(url)\n",
    "time.sleep(0.2)\n",
    "\n",
    "real_all_title=[]\n",
    "real_all_news=[]\n",
    "real_all_url=[]\n",
    "real_all_author=[] \n",
    "real_all_stars=[]\n",
    "\n",
    "\n",
    "# 전 날 페이지로 넘기기\n",
    "for d in range(2):\n",
    "    all_title=[]\n",
    "    all_news=[]\n",
    "    all_url=[]\n",
    "    all_author=[] \n",
    "    all_stars=[]\n",
    "\n",
    "        \n",
    "    titles=driver.find_elements(By.TAG_NAME,'h3')# 제목\n",
    "    stars=driver.find_elements(By.TAG_NAME,'a>div>div') # 좋아요\n",
    "\n",
    "    for i in titles:\n",
    "        all_title.append(i.text)\n",
    "        real_all_title.append(i.text)\n",
    "    all_title=[i for i in all_title if i]  # 빈칸제거\n",
    "\n",
    "    for i in stars:\n",
    "        all_stars.append(i.text)\n",
    "        real_all_title.append(i.text)\n",
    "\n",
    "\n",
    "    for n in all_title:\n",
    "\n",
    "        print(n)\n",
    "        driver.find_element(By.PARTIAL_LINK_TEXT,n).click() #페이지 들어가기\n",
    "        time.sleep(1)\n",
    "        \n",
    "        nourl=driver.current_url#url 저장\n",
    "        real_all_url.append(nourl)\n",
    "        time.sleep(1)\n",
    "        \n",
    "        news=driver.find_element(By.TAG_NAME,'p') # 뉴스 본문 저장\n",
    "        real_all_news.append(news.text)\n",
    "\n",
    "    \n",
    "        author=driver.find_element(By.CLASS_NAME,'whitespace-nowrap.underline') #저자 \n",
    "        real_all_author.append(author.text)\n",
    "            \n",
    "        \n",
    "        driver.back()\n",
    "\n",
    "    # 잠깐 쉬고 전 페이지 가기\n",
    "    time.sleep(1)\n",
    "    driver.find_element(By.CLASS_NAME,'btn.gap-2').click() # 사이트 전 날\n",
    "\n"
   ]
  },
  {
   "cell_type": "code",
   "execution_count": 26,
   "metadata": {},
   "outputs": [
    {
     "data": {
      "text/html": [
       "<div>\n",
       "<style scoped>\n",
       "    .dataframe tbody tr th:only-of-type {\n",
       "        vertical-align: middle;\n",
       "    }\n",
       "\n",
       "    .dataframe tbody tr th {\n",
       "        vertical-align: top;\n",
       "    }\n",
       "\n",
       "    .dataframe thead th {\n",
       "        text-align: right;\n",
       "    }\n",
       "</style>\n",
       "<table border=\"1\" class=\"dataframe\">\n",
       "  <thead>\n",
       "    <tr style=\"text-align: right;\">\n",
       "      <th></th>\n",
       "    </tr>\n",
       "  </thead>\n",
       "  <tbody>\n",
       "  </tbody>\n",
       "</table>\n",
       "</div>"
      ],
      "text/plain": [
       "Empty DataFrame\n",
       "Columns: []\n",
       "Index: []"
      ]
     },
     "execution_count": 26,
     "metadata": {},
     "output_type": "execute_result"
    }
   ],
   "source": [
    "sumnews=[]\n",
    "for t,n,u,a,s in zip(all_title,all_news,all_url,all_author,all_stars):\n",
    "    singles={'title':t,'news':n,'url':u,'author':a,'like':s}\n",
    "    sumnews.append(singles)\n",
    "\n",
    "import pandas as pd\n",
    "news_df=pd.DataFrame(sumnews)\n",
    "news_df"
   ]
  },
  {
   "cell_type": "code",
   "execution_count": 25,
   "metadata": {},
   "outputs": [],
   "source": [
    "news_df.to_excel('samtest.xlsx')"
   ]
  }
 ],
 "metadata": {
  "kernelspec": {
   "display_name": "test",
   "language": "python",
   "name": "python3"
  },
  "language_info": {
   "codemirror_mode": {
    "name": "ipython",
    "version": 3
   },
   "file_extension": ".py",
   "mimetype": "text/x-python",
   "name": "python",
   "nbconvert_exporter": "python",
   "pygments_lexer": "ipython3",
   "version": "3.9.18"
  }
 },
 "nbformat": 4,
 "nbformat_minor": 2
}
