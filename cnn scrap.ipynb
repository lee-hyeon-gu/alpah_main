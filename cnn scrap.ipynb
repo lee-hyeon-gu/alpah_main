{
 "cells": [
  {
   "cell_type": "code",
   "execution_count": 6,
   "metadata": {},
   "outputs": [
    {
     "name": "stdout",
     "output_type": "stream",
     "text": [
      "[<span class=\"container__headline-text\" data-editable=\"headline\">Europe’s leading tour company could quit the London Stock Exchange</span>, <span class=\"container__headline-text\" data-editable=\"headline\">Pizza Hut is gifting deliveristas of all types free pizza this holiday season</span>, <span class=\"container__headline-text\" data-editable=\"headline\">Is a recession on the horizon? More bank CEOs think so</span>, <span class=\"container__headline-text\" data-editable=\"headline\">Nvidia is developing new chips for China to comply with US export curbs</span>, <span class=\"container__headline-text\" data-editable=\"headline\">ChatGPT, Oppenheimer and Indian entertainment top the most-viewed Wikipedia pages in 2023</span>, <span class=\"container__headline-text\" data-editable=\"headline\">Hackers access profiles of nearly 7 million 23andMe customers</span>, <span class=\"container__headline-text\" data-editable=\"headline\">Former Harvard disinformation scholar says she was pushed out of her job after college faced pressure from Facebook</span>, <span class=\"container__headline-text\" data-editable=\"headline\">Sheryl Sandberg on Hamas attack: Rape should never be used as an act of war</span>, <span class=\"container__headline-text\" data-editable=\"headline\">Spotify to cut 17% of its staff</span>, <span class=\"container__headline-text\" data-editable=\"headline\">TikTok’s recent court victories show just how hard it might be to ban the app</span>, <span class=\"container__headline-text\" data-editable=\"headline\">‘Pay any price.’ Alibaba’s Jack Ma urges reform as rival rattles e-commerce giant</span>, <span class=\"container__headline-text\" data-editable=\"headline\">FTC can seek tough new restrictons on Meta’s use of personal data, federal judge rules</span>, <span class=\"container__headline-text\" data-editable=\"headline\">Elon Musk wants to be a world leader. His own behavior is holding him back</span>, <span class=\"container__headline-text\" data-editable=\"headline\">TikTok owner ByteDance is retreating from gaming and laying off hundreds</span>, <span class=\"container__headline-text\" data-editable=\"headline\">Here are the dozen brands that have paused ads on X amid ongoing crisis for Elon Musk’s platform</span>, <span class=\"container__headline-text\" data-editable=\"headline\">Democrats accuse X of profiting from Hamas propaganda</span>, <span class=\"container__headline-text\" data-editable=\"headline\">OpenAI’s wild week. How the Sam Altman story unfolded</span>, <span class=\"container__headline-text\" data-editable=\"headline\">How to protect yourself from iPhone thieves locking you out of your own device</span>, <span class=\"container__headline-text\" data-editable=\"headline\">US government’s proposal to boost EV sales is challenging but not impossible</span>, <span class=\"container__headline-text\" data-editable=\"headline\">FBI warns consumers not to use public phone charging stations</span>, <span class=\"container__headline-text\" data-editable=\"headline\">See CNN co-anchors absolutely lose it over John Berman’s report</span>, <span class=\"container__headline-text\" data-editable=\"headline\">Pizza Hut is gifting deliveristas of all types free pizza this holiday season</span>, <span class=\"container__headline-text\" data-editable=\"headline\">Is a recession on the horizon? More bank CEOs think so</span>, <span class=\"container__headline-text\" data-editable=\"headline\">CVS is shaking up drug pricing. You can thank Mark Cuban</span>, <span class=\"container__headline-text\" data-editable=\"headline\">Nvidia is developing new chips for China to comply with US export curbs</span>, <span class=\"container__headline-text\" data-editable=\"headline\">Is a recession on the horizon? More bank CEOs think so</span>, <span class=\"container__headline-text\" data-editable=\"headline\">CVS is shaking up drug pricing. You can thank Mark Cuban</span>]\n"
     ]
    },
    {
     "data": {
      "text/plain": [
       "['Europe’s leading tour company could quit the London Stock Exchange',\n",
       " 'Pizza Hut is gifting deliveristas of all types free pizza this holiday season',\n",
       " 'Is a recession on the horizon? More bank CEOs think so',\n",
       " 'Nvidia is developing new chips for China to comply with US export curbs',\n",
       " 'ChatGPT, Oppenheimer and Indian entertainment top the most-viewed Wikipedia pages in 2023',\n",
       " 'Hackers access profiles of nearly 7 million 23andMe customers',\n",
       " 'Former Harvard disinformation scholar says she was pushed out of her job after college faced pressure from Facebook',\n",
       " 'Sheryl Sandberg on Hamas attack: Rape should never be used as an act of war',\n",
       " 'Spotify to cut 17% of its staff',\n",
       " 'TikTok’s recent court victories show just how hard it might be to ban the app',\n",
       " '‘Pay any price.’ Alibaba’s Jack Ma urges reform as rival rattles e-commerce giant',\n",
       " 'FTC can seek tough new restrictons on Meta’s use of personal data, federal judge rules',\n",
       " 'Elon Musk wants to be a world leader. His own behavior is holding him back',\n",
       " 'TikTok owner ByteDance is retreating from gaming and laying off hundreds',\n",
       " 'Here are the dozen brands that have paused ads on X amid ongoing crisis for Elon Musk’s platform',\n",
       " 'Democrats accuse X of profiting from Hamas propaganda',\n",
       " 'OpenAI’s wild week. How the Sam Altman story unfolded',\n",
       " 'How to protect yourself from iPhone thieves locking you out of your own device',\n",
       " 'US government’s proposal to boost EV sales is challenging but not impossible',\n",
       " 'FBI warns consumers not to use public phone charging stations',\n",
       " 'See CNN co-anchors absolutely lose it over John Berman’s report',\n",
       " 'Pizza Hut is gifting deliveristas of all types free pizza this holiday season',\n",
       " 'Is a recession on the horizon? More bank CEOs think so',\n",
       " 'CVS is shaking up drug pricing. You can thank Mark Cuban',\n",
       " 'Nvidia is developing new chips for China to comply with US export curbs',\n",
       " 'Is a recession on the horizon? More bank CEOs think so',\n",
       " 'CVS is shaking up drug pricing. You can thank Mark Cuban']"
      ]
     },
     "execution_count": 6,
     "metadata": {},
     "output_type": "execute_result"
    }
   ],
   "source": [
    "import requests\n",
    "from bs4 import BeautifulSoup\n",
    "import time\n",
    "import pandas as pd\n",
    "from tqdm import tqdm\n",
    "import re\n",
    "\n",
    "# with open('C:/Users/home/Downloads/aa/asd.html','rb') as f:\n",
    "#     data=f.read()\n",
    "\n",
    "url=('https://edition.cnn.com/business/tech')\n",
    "resp=requests.get(url)\n",
    "\n",
    "body_slut=BeautifulSoup(resp.content,'lxml').select('.container__headline-text')\n",
    "print(body_slut)\n",
    "\n",
    "title_list = []\n",
    "for t in body_slut:\n",
    "    title_list.append(t.text)\n",
    "    \n",
    "title_list"
   ]
  }
 ],
 "metadata": {
  "kernelspec": {
   "display_name": "test",
   "language": "python",
   "name": "python3"
  },
  "language_info": {
   "codemirror_mode": {
    "name": "ipython",
    "version": 3
   },
   "file_extension": ".py",
   "mimetype": "text/x-python",
   "name": "python",
   "nbconvert_exporter": "python",
   "pygments_lexer": "ipython3",
   "version": "3.10.13"
  }
 },
 "nbformat": 4,
 "nbformat_minor": 2
}
